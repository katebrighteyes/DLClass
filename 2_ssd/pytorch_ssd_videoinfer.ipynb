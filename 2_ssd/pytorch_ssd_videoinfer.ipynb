{
  "nbformat": 4,
  "nbformat_minor": 0,
  "metadata": {
    "colab": {
      "name": "pytorch_ssd_videoinfer.ipynb",
      "private_outputs": true,
      "provenance": [],
      "collapsed_sections": []
    },
    "kernelspec": {
      "name": "python3",
      "display_name": "Python 3"
    },
    "language_info": {
      "name": "python"
    },
    "accelerator": "GPU"
  },
  "cells": [
    {
      "cell_type": "code",
      "metadata": {
        "id": "r-7I0YF9aEu5"
      },
      "source": [
        "from google.colab import drive\n",
        "\n",
        "drive.mount('/content/gdrive')"
      ],
      "execution_count": null,
      "outputs": []
    },
    {
      "cell_type": "code",
      "metadata": {
        "id": "bjmADx0Faew9"
      },
      "source": [
        "cd gdrive/MyDrive/ssd/"
      ],
      "execution_count": null,
      "outputs": []
    },
    {
      "cell_type": "code",
      "metadata": {
        "id": "C3FaASk1dKiN"
      },
      "source": [
        "pwd"
      ],
      "execution_count": null,
      "outputs": []
    },
    {
      "cell_type": "code",
      "metadata": {
        "id": "_Mg8SOJae4Y6"
      },
      "source": [
        "cd pytorch-ssd/"
      ],
      "execution_count": null,
      "outputs": []
    },
    {
      "cell_type": "code",
      "metadata": {
        "id": "NlEaKSsVkxg9"
      },
      "source": [
        "from vision.ssd.vgg_ssd import create_vgg_ssd, create_vgg_ssd_predictor\n",
        "from vision.ssd.mobilenetv1_ssd import create_mobilenetv1_ssd, create_mobilenetv1_ssd_predictor\n",
        "from vision.ssd.mobilenetv1_ssd_lite import create_mobilenetv1_ssd_lite, create_mobilenetv1_ssd_lite_predictor\n",
        "from vision.ssd.squeezenet_ssd_lite import create_squeezenet_ssd_lite, create_squeezenet_ssd_lite_predictor\n",
        "from vision.ssd.mobilenet_v2_ssd_lite import create_mobilenetv2_ssd_lite, create_mobilenetv2_ssd_lite_predictor\n",
        "from vision.utils.misc import Timer\n",
        "import cv2\n",
        "import sys"
      ],
      "execution_count": null,
      "outputs": []
    },
    {
      "cell_type": "code",
      "metadata": {
        "id": "EF_Hug-LgSYK"
      },
      "source": [
        "net_type = 'mb1-ssd'\n",
        "model_path = 'models/mobilenet-v1-ssd-mp-0_675.pth'\n",
        "label_path = '/content/gdrive/MyDrive/ssd/pytorch-ssd/models/labels.txt'\n",
        "image_path = 'models/car.jpg'"
      ],
      "execution_count": null,
      "outputs": []
    },
    {
      "cell_type": "code",
      "metadata": {
        "id": "k4TeJPyjYrjo"
      },
      "source": [
        "pwd"
      ],
      "execution_count": null,
      "outputs": []
    },
    {
      "cell_type": "code",
      "metadata": {
        "id": "NnP3kfuVYk8D"
      },
      "source": [
        "ls /content/gdrive/MyDrive/ssd/pytorch-ssd/models/labels.txt"
      ],
      "execution_count": null,
      "outputs": []
    },
    {
      "cell_type": "code",
      "metadata": {
        "id": "PeAJO-YGMg8K"
      },
      "source": [
        "class_names = [name.strip() for name in open(label_path).readlines()]\n",
        "net = create_mobilenetv1_ssd(len(class_names), is_test=True)\n",
        "net.load(model_path)\n",
        "predictor = create_mobilenetv1_ssd_predictor(net, candidate_size=200)"
      ],
      "execution_count": null,
      "outputs": []
    },
    {
      "cell_type": "code",
      "metadata": {
        "id": "9e2vWm6zMg5-"
      },
      "source": [
        "orig_image = cv2.imread(image_path)\n",
        "image = cv2.cvtColor(orig_image, cv2.COLOR_BGR2RGB)\n",
        "boxes, labels, probs = predictor.predict(image, 10, 0.4)"
      ],
      "execution_count": null,
      "outputs": []
    },
    {
      "cell_type": "code",
      "metadata": {
        "id": "KoOqxElgM_2O"
      },
      "source": [
        "for i in range(boxes.size(0)):\n",
        "    box = boxes[i, :]\n",
        "    cv2.rectangle(orig_image, (box[0], box[1]), (box[2], box[3]), (255, 255, 0), 4)\n",
        "    #label = f\"\"\"{voc_dataset.class_names[labels[i]]}: {probs[i]:.2f}\"\"\"\n",
        "    label = f\"{class_names[labels[i]]}: {probs[i]:.2f}\"\n",
        "    cv2.putText(orig_image, label,\n",
        "                (box[0] + 20, box[1] + 40),\n",
        "                cv2.FONT_HERSHEY_SIMPLEX,\n",
        "                1,  # font scale\n",
        "                (255, 0, 255),\n",
        "                2)  # line type\n",
        "path = \"run_ssd_example_output.jpg\"\n",
        "cv2.imwrite(path, orig_image)"
      ],
      "execution_count": null,
      "outputs": []
    },
    {
      "cell_type": "code",
      "metadata": {
        "id": "YpLc5kwDh7g6"
      },
      "source": [
        "def imShow(path):\n",
        "  import cv2\n",
        "  import matplotlib.pyplot as plt\n",
        "  %matplotlib inline\n",
        "\n",
        "  image = cv2.imread(path)\n",
        "  height, width = image.shape[:2]\n",
        "  resized_image = cv2.resize(image,(3*width, 3*height), interpolation = cv2.INTER_CUBIC)\n",
        "\n",
        "  fig = plt.gcf()\n",
        "  fig.set_size_inches(9, 5)\n",
        "  plt.axis(\"off\")\n",
        "  plt.imshow(cv2.cvtColor(resized_image, cv2.COLOR_BGR2RGB))\n",
        "  plt.show()"
      ],
      "execution_count": null,
      "outputs": []
    },
    {
      "cell_type": "code",
      "metadata": {
        "id": "_qR0OkCLNEAB"
      },
      "source": [
        "imShow('run_ssd_example_output.jpg')"
      ],
      "execution_count": null,
      "outputs": []
    },
    {
      "cell_type": "code",
      "metadata": {
        "id": "PdQFkpWLZ5vm"
      },
      "source": [
        "ls run2.mp4"
      ],
      "execution_count": null,
      "outputs": []
    },
    {
      "cell_type": "code",
      "metadata": {
        "id": "u9h7aYMElyza"
      },
      "source": [
        "from IPython.display import display, Image"
      ],
      "execution_count": null,
      "outputs": []
    },
    {
      "cell_type": "code",
      "metadata": {
        "id": "IdeFPv1Ql2Nh"
      },
      "source": [
        "Image(filename='car.jpg')"
      ],
      "execution_count": null,
      "outputs": []
    },
    {
      "cell_type": "code",
      "metadata": {
        "id": "RcQKWISCnVKb"
      },
      "source": [
        "import cv2 as cv\n",
        "import argparse\n",
        "import sys\n",
        "import numpy as np\n",
        "import os.path\n"
      ],
      "execution_count": null,
      "outputs": []
    },
    {
      "cell_type": "code",
      "metadata": {
        "id": "2ywvvaTFmNE7"
      },
      "source": [
        "import cv2\n",
        "from IPython.display import display, Image\n",
        "import time\n",
        "\n",
        "display_handle=display(None, display_id=True)"
      ],
      "execution_count": null,
      "outputs": []
    },
    {
      "cell_type": "code",
      "metadata": {
        "id": "Gz-nijF0oLXo"
      },
      "source": [
        "ls run2.mp4"
      ],
      "execution_count": null,
      "outputs": []
    },
    {
      "cell_type": "code",
      "metadata": {
        "id": "hC1nD9TWm60q"
      },
      "source": [
        "path='run2.mp4'\n",
        "fps = 30\n",
        "print(fps)\n",
        "cap = cv2.VideoCapture(path)\n",
        "while cap.isOpened():\n",
        "    hasFrame, frame = cap.read()\n",
        "    # Stop the program if reached end of video\n",
        "    if not hasFrame:\n",
        "        print(\"Done processing !!!\")    \n",
        "        cv.waitKey(3000)\n",
        "        # Release device\n",
        "        cap.release()\n",
        "        break\n",
        "    width=360\n",
        "    height=224\n",
        "    resized_image = cv2.resize(frame,(width, height), interpolation = cv2.INTER_CUBIC)\n",
        "    #outframe = frame_infer(resized_image)\n",
        "    _, outframe = cv2.imencode('.jpeg', resized_image)\n",
        "    display_handle.update(Image(data=outframe.tobytes()))\n",
        "    if cv2.waitKey(int(1000.0/fps)) & 0xFF == ord('q'):\n",
        "        break"
      ],
      "execution_count": null,
      "outputs": []
    }
  ]
}